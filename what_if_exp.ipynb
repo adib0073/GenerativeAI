{
 "cells": [
  {
   "cell_type": "code",
   "execution_count": 1,
   "id": "48bdbbac-255e-4edf-ae31-94ec7de9901c",
   "metadata": {},
   "outputs": [],
   "source": [
    "from langchain_core.tools import tool\n",
    "\n",
    "\n",
    "@tool\n",
    "def multiply(first_int: int, second_int: int) -> int:\n",
    "    \"\"\"Multiply two integers together.\"\"\"\n",
    "    return first_int * second_int\n",
    "\n",
    "\n",
    "@tool\n",
    "def add(first_int: int, second_int: int) -> int:\n",
    "    \"Add two integers.\"\n",
    "    return first_int + second_int\n",
    "\n",
    "\n",
    "@tool\n",
    "def exponentiate(base: int, exponent: int) -> int:\n",
    "    \"Exponentiate the base to the exponent power.\"\n",
    "    return base**exponent\n"
   ]
  },
  {
   "cell_type": "code",
   "execution_count": 2,
   "id": "717a1977-98b4-44f8-9d58-71e26e41c9d1",
   "metadata": {},
   "outputs": [],
   "source": [
    "from langchain import hub\n",
    "from langchain.agents import AgentExecutor, create_openai_tools_agent, ZeroShotAgent, initialize_agent\n",
    "from langchain_openai import ChatOpenAI"
   ]
  },
  {
   "cell_type": "code",
   "execution_count": 3,
   "id": "4f9c029d-eb5d-42f2-891d-7b77ae0d64c0",
   "metadata": {},
   "outputs": [
    {
     "data": {
      "text/plain": [
       "ChatPromptTemplate(input_variables=['agent_scratchpad', 'input'], input_types={'chat_history': typing.List[typing.Union[langchain_core.messages.ai.AIMessage, langchain_core.messages.human.HumanMessage, langchain_core.messages.chat.ChatMessage, langchain_core.messages.system.SystemMessage, langchain_core.messages.function.FunctionMessage, langchain_core.messages.tool.ToolMessage]], 'agent_scratchpad': typing.List[typing.Union[langchain_core.messages.ai.AIMessage, langchain_core.messages.human.HumanMessage, langchain_core.messages.chat.ChatMessage, langchain_core.messages.system.SystemMessage, langchain_core.messages.function.FunctionMessage, langchain_core.messages.tool.ToolMessage]]}, messages=[SystemMessagePromptTemplate(prompt=PromptTemplate(input_variables=[], template='You are a helpful assistant')), MessagesPlaceholder(variable_name='chat_history', optional=True), HumanMessagePromptTemplate(prompt=PromptTemplate(input_variables=['input'], template='{input}')), MessagesPlaceholder(variable_name='agent_scratchpad')])"
      ]
     },
     "execution_count": 3,
     "metadata": {},
     "output_type": "execute_result"
    }
   ],
   "source": [
    "# Get the prompt to use - you can modify this!\n",
    "prompt = hub.pull(\"hwchase17/openai-tools-agent\")\n",
    "prompt"
   ]
  },
  {
   "cell_type": "code",
   "execution_count": 4,
   "id": "e7085f30-a72e-4fd5-b6a3-89873d367252",
   "metadata": {},
   "outputs": [],
   "source": [
    "# Choose the LLM that will drive the agent\n",
    "# Only certain models support this\n",
    "model = ChatOpenAI(model=\"gpt-3.5-turbo-1106\", temperature=0)"
   ]
  },
  {
   "cell_type": "code",
   "execution_count": 5,
   "id": "12aae36a-eb8c-43b3-86bb-0d92fa3b125b",
   "metadata": {},
   "outputs": [],
   "source": [
    "# What-If Explanations"
   ]
  },
  {
   "cell_type": "code",
   "execution_count": 6,
   "id": "7d6a1f6a-5918-418c-8731-4cbcf2cb5697",
   "metadata": {},
   "outputs": [],
   "source": [
    "from pydantic import BaseModel\n",
    "\n",
    "class BmiModel(BaseModel):\n",
    "    height: float = None\n",
    "    weight: float = None\n",
    "    bmi: float = None\n",
    "    obesity_status: str = \"Unknown\""
   ]
  },
  {
   "cell_type": "code",
   "execution_count": 7,
   "id": "4fc507ca-ac17-4995-8a72-2c8d856c36a7",
   "metadata": {},
   "outputs": [
    {
     "data": {
      "text/plain": [
       "'\\n@tool\\ndef predict_model(new_value: BmiModel) -> BmiModel:\\n    \\'\\'\\'Calculate BMI\\'\\'\\'\\n    new_value.bmi = new_value.weight / ((new_value.height/100.0) ** 2)    \\n\\n    if new_value.bmi > 30:\\n        new_value.obesity_status = \"obese\"\\n    else:\\n        new_value.obesity_status = \"healthy\"\\n    return new_value.bmi\\n\\n\\n'"
      ]
     },
     "execution_count": 7,
     "metadata": {},
     "output_type": "execute_result"
    }
   ],
   "source": [
    "\"\"\"\n",
    "@tool\n",
    "def predict_model(new_value: BmiModel) -> BmiModel:\n",
    "    '''Calculate BMI'''\n",
    "    new_value.bmi = new_value.weight / ((new_value.height/100.0) ** 2)    \n",
    "\n",
    "    if new_value.bmi > 30:\n",
    "        new_value.obesity_status = \"obese\"\n",
    "    else:\n",
    "        new_value.obesity_status = \"healthy\"\n",
    "    return new_value.bmi\n",
    "\n",
    "\n",
    "\"\"\""
   ]
  },
  {
   "cell_type": "code",
   "execution_count": 8,
   "id": "3682bdc2-893f-43ed-bee1-4c77266f8b7b",
   "metadata": {},
   "outputs": [],
   "source": [
    "class MLModel(BaseModel):\n",
    "    age: float = 29.0    \n",
    "    gender: int = 1\n",
    "    height: float = 175\n",
    "    weight: float = 72\n",
    "    systolic_bp: float = 120\n",
    "    diastolic_bp: float = 80\n",
    "    cholesterol_status: int = 1\n",
    "    glucose_status: int = 1\n",
    "    smoking_status: int = 1\n",
    "    alcohol_status: int = 1\n",
    "    physical_activity_status: int = 1"
   ]
  },
  {
   "cell_type": "code",
   "execution_count": 9,
   "id": "6d050f9e-0392-410f-9c93-a20f38519e63",
   "metadata": {},
   "outputs": [],
   "source": [
    "def transform_age(df):\n",
    "    \"\"\"\n",
    "    Convert Age to AGE_GROUP\n",
    "    \"\"\"\n",
    "    age_bins = [0, 30, 40, 50, 60, 150 ]\n",
    "    age_labels = [0, 1, 2, 3, 4]\n",
    "\n",
    "    df[\"AGE_GROUP\"] = pd.cut(df['age'], \n",
    "                             bins=age_bins, \n",
    "                             labels=age_labels, \n",
    "                             include_lowest=True,\n",
    "                             right=True)\n",
    "    return df\n",
    "\n",
    "\n",
    "def transform_bmi(df):\n",
    "    \"\"\"\n",
    "    Convert Height and Weight to BMI\n",
    "    \"\"\"\n",
    "    df[\"BMI\"] = df[\"weight\"]/ ((df[\"height\"] * 0.01) ** 2)\n",
    "    return df\n",
    "\n",
    "\n",
    "def transform_map(df):\n",
    "    \"\"\"\n",
    "    Convert Systolic BP and Diastolic BP to MAP\n",
    "    \"\"\"\n",
    "    df[\"MEAN_ARTERIAL_PRESSURE\"] = df[\"diastolic_bp\"] + ((df[\"systolic_bp\"] - df[\"diastolic_bp\"])/3)\n",
    "    return df\n",
    "\n",
    "def select_features(df):\n",
    "    \"\"\"\n",
    "    Drop unnecessary features\n",
    "    \"\"\"\n",
    "    df = df.drop([\"age\", \"height\", \"weight\", \"systolic_bp\", \"diastolic_bp\"],axis='columns') \n",
    "    return df\n",
    "\n",
    "from sklearn.preprocessing import LabelEncoder\n",
    "def label_encoding(df, features):\n",
    "    '''\n",
    "    Method for label encoding all selected ordinal fields\n",
    "    '''\n",
    "    for f in features:\n",
    "        if(f in df.columns):\n",
    "            le = LabelEncoder()\n",
    "            df[f]= le.fit_transform(df[f])\n",
    "        else:\n",
    "            print('Feature not found')\n",
    "    return df\n",
    "\n",
    "\n",
    "\n",
    "def transform_features(df):\n",
    "    \"\"\"\n",
    "    Pipeline steps:\n",
    "    # 1. Convert Age to AGE_GROUP\n",
    "    # 2. Convert Height, Weight to BMI\n",
    "    # 3. Convert SBP and DBP to MAP\n",
    "    # 4. Perform label encoding on ordinal features\n",
    "    # 5. Select Features to make the prediction\n",
    "    \"\"\"\n",
    "    df = transform_age(df)\n",
    "    df = transform_bmi(df)\n",
    "    df = transform_map(df)\n",
    "    df = label_encoding(df, features=['cholesterol_status',\n",
    "                                      'glucose_status', \n",
    "                                      'AGE_GROUP'])\n",
    "    df = select_features(df)\n",
    "    return df"
   ]
  },
  {
   "cell_type": "code",
   "execution_count": 10,
   "id": "035bcc1a-eb41-4012-bf01-b87b250ab1c7",
   "metadata": {},
   "outputs": [],
   "source": [
    "patient_data = {\n",
    "\"patient_id\" : 1011,\n",
    "\"age\": 29.0,\n",
    "\"gender\": 2,\n",
    "\"height\": 175,\n",
    "\"weight\": 72,\n",
    "\"systolic_bp\": 120,\n",
    "\"diastolic_bp\": 80,\n",
    "\"cholesterol_status\": 1,\n",
    "\"glucose_status\": 1,\n",
    "\"smoking_status\": 1,\n",
    "\"alcohol_status\": 1,\n",
    "\"physical_activity_status\":1\n",
    "}"
   ]
  },
  {
   "cell_type": "code",
   "execution_count": 11,
   "id": "7ed278f1-3465-443d-9afb-638b81ab0db8",
   "metadata": {},
   "outputs": [
    {
     "data": {
      "text/plain": [
       "'{\"patient_id\": 1011, \"age\": 29.0, \"gender\": 2, \"height\": 175, \"weight\": 72, \"systolic_bp\": 120, \"diastolic_bp\": 80, \"cholesterol_status\": 1, \"glucose_status\": 1, \"smoking_status\": 1, \"alcohol_status\": 1, \"physical_activity_status\": 1}'"
      ]
     },
     "execution_count": 11,
     "metadata": {},
     "output_type": "execute_result"
    }
   ],
   "source": [
    "import json\n",
    "\n",
    "initial_data = json.dumps(patient_data)\n",
    "initial_data"
   ]
  },
  {
   "cell_type": "code",
   "execution_count": 12,
   "id": "0f3de51a-617c-42e3-8fe0-9100946fb0f7",
   "metadata": {},
   "outputs": [],
   "source": [
    "# Add dataset description as a context\n",
    "\n",
    "data_description = (\"There are 3 types of input features: Objective: factual information; Examination: results of medical examination; Subjective: information given by the patient.\\n\"\n",
    "+ \"The dataset has the following features:\\nAge | Objective Feature | age | unit is years\\n\"\n",
    "+\"Height | Objective Feature | height | int (unit is cm) |\\n\"\n",
    "+\"Weight | Objective Feature | weight | float (unit is kg) |\\n\"\n",
    "+\"Gender | Objective Feature | gender | categorical code where value 1 = women, 2= men|\\n\" \n",
    "+\"Systolic blood pressure | Examination Feature | systolic_bp | int data type, but measure in mmHg|\\n\"\n",
    "+\"Diastolic blood pressure | Examination Feature | diastolic_bp | int data type, but measure in mmHg|\\n\"\n",
    "+\"Cholesterol | Examination Feature | cholesterol | 1: normal, 2: above normal, 3: well above normal |\\n\"\n",
    "+\"Glucose | Examination Feature | glucose_status | 1: normal, 2: above normal, 3: well above normal |\\n\"\n",
    "+\"Smoking | Subjective Feature | smoking_status | 0 value means does not smoke, value =1 means regular smoker|\\n\"\n",
    "+\"Alcohol intake | Subjective Feature | alcohol_status | 0 value means does not consume alcohol, value=1 means regular consumption of alcohol|\\n\"\n",
    "+\"Physical activity | Subjective Feature | phsycial_activity_status | 0 value means low physcial activity level, value=1 means high physical actively level|\\n\"\n",
    "+\"Presence or absence of cardiovascular disease | Target Variable | cvd_status | cvd_status = 0 means low risk of CVD, cvd_status=1 means high risk of CVD\\n\"\n",
    "+\"All of the dataset values were collected at the moment of medical examination.\")"
   ]
  },
  {
   "cell_type": "code",
   "execution_count": 13,
   "id": "79abe3af-75e0-47e0-b90d-77fca84d3b00",
   "metadata": {},
   "outputs": [],
   "source": [
    "import joblib\n",
    "import pandas as pd\n",
    "\n",
    "@tool\n",
    "def predict_model(new_value: MLModel) -> int:\n",
    "    \"\"\"Calculate CVD risk\"\"\"\n",
    "    \n",
    "    model = joblib.load('model/light_gbm.joblib')\n",
    "    dict_vals = new_value.__dict__\n",
    "    x_df = pd.DataFrame(dict_vals, index=[0])\n",
    "    x_df = transform_features(x_df)\n",
    "    print(x_df)\n",
    "    y_pred = model.predict(x_df)\n",
    "    \n",
    "    return y_pred"
   ]
  },
  {
   "cell_type": "code",
   "execution_count": 14,
   "id": "a861c659-4ebb-4376-9a88-9c32c8800317",
   "metadata": {},
   "outputs": [],
   "source": [
    "tools = [multiply, add, exponentiate, predict_model]"
   ]
  },
  {
   "cell_type": "code",
   "execution_count": 15,
   "id": "797feec6-2390-4c60-a5bd-0500bd4fe7d9",
   "metadata": {},
   "outputs": [],
   "source": [
    "from langchain.memory import ConversationBufferMemory\n",
    "\n",
    "memory = ConversationBufferMemory(memory_key=\"chat_history\", return_messages=True)"
   ]
  },
  {
   "cell_type": "code",
   "execution_count": 16,
   "id": "5f6fbf4a-eed7-455c-bd64-f51381d4914f",
   "metadata": {},
   "outputs": [
    {
     "data": {
      "text/plain": [
       "{'chat_history': []}"
      ]
     },
     "execution_count": 16,
     "metadata": {},
     "output_type": "execute_result"
    }
   ],
   "source": [
    "memory.load_memory_variables({})"
   ]
  },
  {
   "cell_type": "code",
   "execution_count": 17,
   "id": "755ca836-fe47-4d9d-8d16-6562ac1b3790",
   "metadata": {},
   "outputs": [],
   "source": [
    "memory.clear()"
   ]
  },
  {
   "cell_type": "code",
   "execution_count": 18,
   "id": "ed322f7b-31a5-45d4-a1ed-6dcba69c7c85",
   "metadata": {},
   "outputs": [],
   "source": [
    "# Construct the OpenAI Tools agent\n",
    "agent = create_openai_tools_agent(model, tools, prompt)"
   ]
  },
  {
   "cell_type": "code",
   "execution_count": 19,
   "id": "b6cdee79-32a7-4df2-b7e0-0056fa41a0b1",
   "metadata": {},
   "outputs": [],
   "source": [
    "# Create an agent executor by passing in the agent and tools\n",
    "agent_executor  = AgentExecutor(\n",
    "    agent=agent, tools=tools, verbose=True, memory=memory\n",
    ")"
   ]
  },
  {
   "cell_type": "code",
   "execution_count": 20,
   "id": "181a21a4-4ee1-485b-aad8-77f7ec14047f",
   "metadata": {},
   "outputs": [
    {
     "name": "stdout",
     "output_type": "stream",
     "text": [
      "\n",
      "\n",
      "\u001b[1m> Entering new AgentExecutor chain...\u001b[0m\n",
      "\u001b[32;1m\u001b[1;3mI will now use the dataset information to assist you with any questions or tasks you have regarding the features and target variable. Feel free to ask your questions or provide any specific tasks you'd like assistance with.\u001b[0m\n",
      "\n",
      "\u001b[1m> Finished chain.\u001b[0m\n"
     ]
    },
    {
     "data": {
      "text/plain": [
       "{'input': 'Use the information from the dataset description to answer questions whenever needed: There are 3 types of input features: Objective: factual information; Examination: results of medical examination; Subjective: information given by the patient.\\nThe dataset has the following features:\\nAge | Objective Feature | age | unit is years\\nHeight | Objective Feature | height | int (unit is cm) |\\nWeight | Objective Feature | weight | float (unit is kg) |\\nGender | Objective Feature | gender | categorical code where value 1 = women, 2= men|\\nSystolic blood pressure | Examination Feature | systolic_bp | int data type, but measure in mmHg|\\nDiastolic blood pressure | Examination Feature | diastolic_bp | int data type, but measure in mmHg|\\nCholesterol | Examination Feature | cholesterol | 1: normal, 2: above normal, 3: well above normal |\\nGlucose | Examination Feature | glucose_status | 1: normal, 2: above normal, 3: well above normal |\\nSmoking | Subjective Feature | smoking_status | 0 value means does not smoke, value =1 means regular smoker|\\nAlcohol intake | Subjective Feature | alcohol_status | 0 value means does not consume alcohol, value=1 means regular consumption of alcohol|\\nPhysical activity | Subjective Feature | phsycial_activity_status | 0 value means low physcial activity level, value=1 means high physical actively level|\\nPresence or absence of cardiovascular disease | Target Variable | cvd_status | cvd_status = 0 means low risk of CVD, cvd_status=1 means high risk of CVD\\nAll of the dataset values were collected at the moment of medical examination.',\n",
       " 'chat_history': [HumanMessage(content='Use the information from the dataset description to answer questions whenever needed: There are 3 types of input features: Objective: factual information; Examination: results of medical examination; Subjective: information given by the patient.\\nThe dataset has the following features:\\nAge | Objective Feature | age | unit is years\\nHeight | Objective Feature | height | int (unit is cm) |\\nWeight | Objective Feature | weight | float (unit is kg) |\\nGender | Objective Feature | gender | categorical code where value 1 = women, 2= men|\\nSystolic blood pressure | Examination Feature | systolic_bp | int data type, but measure in mmHg|\\nDiastolic blood pressure | Examination Feature | diastolic_bp | int data type, but measure in mmHg|\\nCholesterol | Examination Feature | cholesterol | 1: normal, 2: above normal, 3: well above normal |\\nGlucose | Examination Feature | glucose_status | 1: normal, 2: above normal, 3: well above normal |\\nSmoking | Subjective Feature | smoking_status | 0 value means does not smoke, value =1 means regular smoker|\\nAlcohol intake | Subjective Feature | alcohol_status | 0 value means does not consume alcohol, value=1 means regular consumption of alcohol|\\nPhysical activity | Subjective Feature | phsycial_activity_status | 0 value means low physcial activity level, value=1 means high physical actively level|\\nPresence or absence of cardiovascular disease | Target Variable | cvd_status | cvd_status = 0 means low risk of CVD, cvd_status=1 means high risk of CVD\\nAll of the dataset values were collected at the moment of medical examination.'),\n",
       "  AIMessage(content=\"I will now use the dataset information to assist you with any questions or tasks you have regarding the features and target variable. Feel free to ask your questions or provide any specific tasks you'd like assistance with.\")],\n",
       " 'output': \"I will now use the dataset information to assist you with any questions or tasks you have regarding the features and target variable. Feel free to ask your questions or provide any specific tasks you'd like assistance with.\"}"
      ]
     },
     "execution_count": 20,
     "metadata": {},
     "output_type": "execute_result"
    }
   ],
   "source": [
    "agent_executor.invoke(\n",
    "    {\n",
    "        \"input\": f\"Use the information from the dataset description to answer questions whenever needed: {data_description}\"\n",
    "    }\n",
    ")"
   ]
  },
  {
   "cell_type": "code",
   "execution_count": 21,
   "id": "4df2429a-594a-49bd-a550-692dd2961674",
   "metadata": {},
   "outputs": [
    {
     "name": "stdout",
     "output_type": "stream",
     "text": [
      "\n",
      "\n",
      "\u001b[1m> Entering new AgentExecutor chain...\u001b[0m\n",
      "\u001b[32;1m\u001b[1;3m\n",
      "Invoking: `predict_model` with `{'new_value': {'age': 29.0, 'gender': 2, 'height': 175, 'weight': 72, 'systolic_bp': 120, 'diastolic_bp': 80, 'cholesterol_status': 1, 'glucose_status': 1, 'smoking_status': 1, 'alcohol_status': 1, 'physical_activity_status': 1}}`\n",
      "\n",
      "\n",
      "\u001b[0m   gender  cholesterol_status  glucose_status  smoking_status  alcohol_status  \\\n",
      "0       2                   0               0               1               1   \n",
      "\n",
      "   physical_activity_status  AGE_GROUP        BMI  MEAN_ARTERIAL_PRESSURE  \n",
      "0                         1          0  23.510204               93.333333  \n",
      "\u001b[36;1m\u001b[1;3m[0]\u001b[0m\u001b[32;1m\u001b[1;3mBased on the patient data provided, the calculated cardiovascular disease (CVD) risk status is low, with a CVD status of 0. If you have any more questions or need further assistance, feel free to ask!\u001b[0m\n",
      "\n",
      "\u001b[1m> Finished chain.\u001b[0m\n"
     ]
    },
    {
     "data": {
      "text/plain": [
       "{'input': 'The patient data is: {\"patient_id\": 1011, \"age\": 29.0, \"gender\": 2, \"height\": 175, \"weight\": 72, \"systolic_bp\": 120, \"diastolic_bp\": 80, \"cholesterol_status\": 1, \"glucose_status\": 1, \"smoking_status\": 1, \"alcohol_status\": 1, \"physical_activity_status\": 1}',\n",
       " 'chat_history': [HumanMessage(content='Use the information from the dataset description to answer questions whenever needed: There are 3 types of input features: Objective: factual information; Examination: results of medical examination; Subjective: information given by the patient.\\nThe dataset has the following features:\\nAge | Objective Feature | age | unit is years\\nHeight | Objective Feature | height | int (unit is cm) |\\nWeight | Objective Feature | weight | float (unit is kg) |\\nGender | Objective Feature | gender | categorical code where value 1 = women, 2= men|\\nSystolic blood pressure | Examination Feature | systolic_bp | int data type, but measure in mmHg|\\nDiastolic blood pressure | Examination Feature | diastolic_bp | int data type, but measure in mmHg|\\nCholesterol | Examination Feature | cholesterol | 1: normal, 2: above normal, 3: well above normal |\\nGlucose | Examination Feature | glucose_status | 1: normal, 2: above normal, 3: well above normal |\\nSmoking | Subjective Feature | smoking_status | 0 value means does not smoke, value =1 means regular smoker|\\nAlcohol intake | Subjective Feature | alcohol_status | 0 value means does not consume alcohol, value=1 means regular consumption of alcohol|\\nPhysical activity | Subjective Feature | phsycial_activity_status | 0 value means low physcial activity level, value=1 means high physical actively level|\\nPresence or absence of cardiovascular disease | Target Variable | cvd_status | cvd_status = 0 means low risk of CVD, cvd_status=1 means high risk of CVD\\nAll of the dataset values were collected at the moment of medical examination.'),\n",
       "  AIMessage(content=\"I will now use the dataset information to assist you with any questions or tasks you have regarding the features and target variable. Feel free to ask your questions or provide any specific tasks you'd like assistance with.\"),\n",
       "  HumanMessage(content='The patient data is: {\"patient_id\": 1011, \"age\": 29.0, \"gender\": 2, \"height\": 175, \"weight\": 72, \"systolic_bp\": 120, \"diastolic_bp\": 80, \"cholesterol_status\": 1, \"glucose_status\": 1, \"smoking_status\": 1, \"alcohol_status\": 1, \"physical_activity_status\": 1}'),\n",
       "  AIMessage(content='Based on the patient data provided, the calculated cardiovascular disease (CVD) risk status is low, with a CVD status of 0. If you have any more questions or need further assistance, feel free to ask!')],\n",
       " 'output': 'Based on the patient data provided, the calculated cardiovascular disease (CVD) risk status is low, with a CVD status of 0. If you have any more questions or need further assistance, feel free to ask!'}"
      ]
     },
     "execution_count": 21,
     "metadata": {},
     "output_type": "execute_result"
    }
   ],
   "source": [
    "from langchain_core.messages import AIMessage, HumanMessage\n",
    "\n",
    "agent_executor.invoke(\n",
    "    {\n",
    "        \"input\": f\"The patient data is: {initial_data}\"\n",
    "    }\n",
    ")"
   ]
  },
  {
   "cell_type": "code",
   "execution_count": 22,
   "id": "fab2fb77-00fb-47a0-a6a6-44df9728912e",
   "metadata": {},
   "outputs": [
    {
     "name": "stdout",
     "output_type": "stream",
     "text": [
      "\n",
      "\n",
      "\u001b[1m> Entering new AgentExecutor chain...\u001b[0m\n",
      "\u001b[32;1m\u001b[1;3m\n",
      "Invoking: `predict_model` with `{'new_value': {'age': 29.0, 'gender': 2, 'height': 175, 'weight': 72, 'systolic_bp': 120, 'diastolic_bp': 80, 'cholesterol_status': 1, 'glucose_status': 1, 'smoking_status': 1, 'alcohol_status': 1, 'physical_activity_status': 1}}`\n",
      "\n",
      "\n",
      "\u001b[0m   gender  cholesterol_status  glucose_status  smoking_status  alcohol_status  \\\n",
      "0       2                   0               0               1               1   \n",
      "\n",
      "   physical_activity_status  AGE_GROUP        BMI  MEAN_ARTERIAL_PRESSURE  \n",
      "0                         1          0  23.510204               93.333333  \n",
      "\u001b[36;1m\u001b[1;3m[0]\u001b[0m\u001b[32;1m\u001b[1;3mNo, the person has a low risk of cardiovascular disease. The predicted CVD status is 0, indicating a low risk. If you have any more questions or need further assistance, feel free to ask!\u001b[0m\n",
      "\n",
      "\u001b[1m> Finished chain.\u001b[0m\n"
     ]
    },
    {
     "data": {
      "text/plain": [
       "{'input': 'Does the person have high risk of cardiovascular disease?',\n",
       " 'chat_history': [HumanMessage(content='Use the information from the dataset description to answer questions whenever needed: There are 3 types of input features: Objective: factual information; Examination: results of medical examination; Subjective: information given by the patient.\\nThe dataset has the following features:\\nAge | Objective Feature | age | unit is years\\nHeight | Objective Feature | height | int (unit is cm) |\\nWeight | Objective Feature | weight | float (unit is kg) |\\nGender | Objective Feature | gender | categorical code where value 1 = women, 2= men|\\nSystolic blood pressure | Examination Feature | systolic_bp | int data type, but measure in mmHg|\\nDiastolic blood pressure | Examination Feature | diastolic_bp | int data type, but measure in mmHg|\\nCholesterol | Examination Feature | cholesterol | 1: normal, 2: above normal, 3: well above normal |\\nGlucose | Examination Feature | glucose_status | 1: normal, 2: above normal, 3: well above normal |\\nSmoking | Subjective Feature | smoking_status | 0 value means does not smoke, value =1 means regular smoker|\\nAlcohol intake | Subjective Feature | alcohol_status | 0 value means does not consume alcohol, value=1 means regular consumption of alcohol|\\nPhysical activity | Subjective Feature | phsycial_activity_status | 0 value means low physcial activity level, value=1 means high physical actively level|\\nPresence or absence of cardiovascular disease | Target Variable | cvd_status | cvd_status = 0 means low risk of CVD, cvd_status=1 means high risk of CVD\\nAll of the dataset values were collected at the moment of medical examination.'),\n",
       "  AIMessage(content=\"I will now use the dataset information to assist you with any questions or tasks you have regarding the features and target variable. Feel free to ask your questions or provide any specific tasks you'd like assistance with.\"),\n",
       "  HumanMessage(content='The patient data is: {\"patient_id\": 1011, \"age\": 29.0, \"gender\": 2, \"height\": 175, \"weight\": 72, \"systolic_bp\": 120, \"diastolic_bp\": 80, \"cholesterol_status\": 1, \"glucose_status\": 1, \"smoking_status\": 1, \"alcohol_status\": 1, \"physical_activity_status\": 1}'),\n",
       "  AIMessage(content='Based on the patient data provided, the calculated cardiovascular disease (CVD) risk status is low, with a CVD status of 0. If you have any more questions or need further assistance, feel free to ask!'),\n",
       "  HumanMessage(content='Does the person have high risk of cardiovascular disease?'),\n",
       "  AIMessage(content='No, the person has a low risk of cardiovascular disease. The predicted CVD status is 0, indicating a low risk. If you have any more questions or need further assistance, feel free to ask!')],\n",
       " 'output': 'No, the person has a low risk of cardiovascular disease. The predicted CVD status is 0, indicating a low risk. If you have any more questions or need further assistance, feel free to ask!'}"
      ]
     },
     "execution_count": 22,
     "metadata": {},
     "output_type": "execute_result"
    }
   ],
   "source": [
    "output = agent_executor.invoke({\"input\":\"Does the person have high risk of cardiovascular disease?\"})\n",
    "\n",
    "output"
   ]
  },
  {
   "cell_type": "code",
   "execution_count": 23,
   "id": "c10eb5cb-21bd-4308-b14d-e646dae3565f",
   "metadata": {},
   "outputs": [
    {
     "name": "stdout",
     "output_type": "stream",
     "text": [
      "\n",
      "\n",
      "\u001b[1m> Entering new AgentExecutor chain...\u001b[0m\n",
      "\u001b[32;1m\u001b[1;3m\n",
      "Invoking: `predict_model` with `{'new_value': {'age': 58, 'gender': 2, 'height': 175, 'weight': 172, 'systolic_bp': 120, 'diastolic_bp': 80, 'cholesterol_status': 1, 'glucose_status': 1, 'smoking_status': 1, 'alcohol_status': 1, 'physical_activity_status': 1}}`\n",
      "\n",
      "\n",
      "\u001b[0m   gender  cholesterol_status  glucose_status  smoking_status  alcohol_status  \\\n",
      "0       2                   0               0               1               1   \n",
      "\n",
      "   physical_activity_status  AGE_GROUP        BMI  MEAN_ARTERIAL_PRESSURE  \n",
      "0                         1          0  56.163265               93.333333  \n",
      "\u001b[36;1m\u001b[1;3m[0]\u001b[0m\u001b[32;1m\u001b[1;3mEven with the increased weight and age, the risk of diabetes remains low. The predicted CVD status is 0, indicating a low risk. If you have any more questions or need further assistance, feel free to ask!\u001b[0m\n",
      "\n",
      "\u001b[1m> Finished chain.\u001b[0m\n"
     ]
    },
    {
     "data": {
      "text/plain": [
       "{'input': 'What if the weight of the person increases by 100kg when the person is 58 years old, is the risk of diabetes higher?',\n",
       " 'chat_history': [HumanMessage(content='Use the information from the dataset description to answer questions whenever needed: There are 3 types of input features: Objective: factual information; Examination: results of medical examination; Subjective: information given by the patient.\\nThe dataset has the following features:\\nAge | Objective Feature | age | unit is years\\nHeight | Objective Feature | height | int (unit is cm) |\\nWeight | Objective Feature | weight | float (unit is kg) |\\nGender | Objective Feature | gender | categorical code where value 1 = women, 2= men|\\nSystolic blood pressure | Examination Feature | systolic_bp | int data type, but measure in mmHg|\\nDiastolic blood pressure | Examination Feature | diastolic_bp | int data type, but measure in mmHg|\\nCholesterol | Examination Feature | cholesterol | 1: normal, 2: above normal, 3: well above normal |\\nGlucose | Examination Feature | glucose_status | 1: normal, 2: above normal, 3: well above normal |\\nSmoking | Subjective Feature | smoking_status | 0 value means does not smoke, value =1 means regular smoker|\\nAlcohol intake | Subjective Feature | alcohol_status | 0 value means does not consume alcohol, value=1 means regular consumption of alcohol|\\nPhysical activity | Subjective Feature | phsycial_activity_status | 0 value means low physcial activity level, value=1 means high physical actively level|\\nPresence or absence of cardiovascular disease | Target Variable | cvd_status | cvd_status = 0 means low risk of CVD, cvd_status=1 means high risk of CVD\\nAll of the dataset values were collected at the moment of medical examination.'),\n",
       "  AIMessage(content=\"I will now use the dataset information to assist you with any questions or tasks you have regarding the features and target variable. Feel free to ask your questions or provide any specific tasks you'd like assistance with.\"),\n",
       "  HumanMessage(content='The patient data is: {\"patient_id\": 1011, \"age\": 29.0, \"gender\": 2, \"height\": 175, \"weight\": 72, \"systolic_bp\": 120, \"diastolic_bp\": 80, \"cholesterol_status\": 1, \"glucose_status\": 1, \"smoking_status\": 1, \"alcohol_status\": 1, \"physical_activity_status\": 1}'),\n",
       "  AIMessage(content='Based on the patient data provided, the calculated cardiovascular disease (CVD) risk status is low, with a CVD status of 0. If you have any more questions or need further assistance, feel free to ask!'),\n",
       "  HumanMessage(content='Does the person have high risk of cardiovascular disease?'),\n",
       "  AIMessage(content='No, the person has a low risk of cardiovascular disease. The predicted CVD status is 0, indicating a low risk. If you have any more questions or need further assistance, feel free to ask!'),\n",
       "  HumanMessage(content='What if the weight of the person increases by 100kg when the person is 58 years old, is the risk of diabetes higher?'),\n",
       "  AIMessage(content='Even with the increased weight and age, the risk of diabetes remains low. The predicted CVD status is 0, indicating a low risk. If you have any more questions or need further assistance, feel free to ask!')],\n",
       " 'output': 'Even with the increased weight and age, the risk of diabetes remains low. The predicted CVD status is 0, indicating a low risk. If you have any more questions or need further assistance, feel free to ask!'}"
      ]
     },
     "execution_count": 23,
     "metadata": {},
     "output_type": "execute_result"
    }
   ],
   "source": [
    "agent_executor.invoke({\"input\":\"What if the weight of the person increases by 100kg when the person is 58 years old, is the risk of diabetes higher?\"})"
   ]
  },
  {
   "cell_type": "code",
   "execution_count": 24,
   "id": "7977fbdb-54d8-4459-98ef-9eabc0ecbbc6",
   "metadata": {},
   "outputs": [
    {
     "name": "stdout",
     "output_type": "stream",
     "text": [
      "\n",
      "\n",
      "\u001b[1m> Entering new AgentExecutor chain...\u001b[0m\n",
      "\u001b[32;1m\u001b[1;3m\n",
      "Invoking: `predict_model` with `{'new_value': {'age': 58, 'gender': 2, 'height': 175, 'weight': 172, 'systolic_bp': 180, 'diastolic_bp': 80, 'cholesterol_status': 1, 'glucose_status': 1, 'smoking_status': 1, 'alcohol_status': 1, 'physical_activity_status': 1}}`\n",
      "\n",
      "\n",
      "\u001b[0m   gender  cholesterol_status  glucose_status  smoking_status  alcohol_status  \\\n",
      "0       2                   0               0               1               1   \n",
      "\n",
      "   physical_activity_status  AGE_GROUP        BMI  MEAN_ARTERIAL_PRESSURE  \n",
      "0                         1          0  56.163265              113.333333  \n",
      "\u001b[36;1m\u001b[1;3m[1]\u001b[0m\u001b[32;1m\u001b[1;3mWith the increased systolic blood pressure, the risk of cardiovascular disease is now high. The predicted cvd_status value is 1, indicating a high risk. If you have any more questions or need further assistance, feel free to ask!\u001b[0m\n",
      "\n",
      "\u001b[1m> Finished chain.\u001b[0m\n"
     ]
    },
    {
     "data": {
      "text/plain": [
       "{'input': 'What if the systolic blood pressure of the person increases to 180 mmHg. Now can the person have a high risk?',\n",
       " 'chat_history': [HumanMessage(content='Use the information from the dataset description to answer questions whenever needed: There are 3 types of input features: Objective: factual information; Examination: results of medical examination; Subjective: information given by the patient.\\nThe dataset has the following features:\\nAge | Objective Feature | age | unit is years\\nHeight | Objective Feature | height | int (unit is cm) |\\nWeight | Objective Feature | weight | float (unit is kg) |\\nGender | Objective Feature | gender | categorical code where value 1 = women, 2= men|\\nSystolic blood pressure | Examination Feature | systolic_bp | int data type, but measure in mmHg|\\nDiastolic blood pressure | Examination Feature | diastolic_bp | int data type, but measure in mmHg|\\nCholesterol | Examination Feature | cholesterol | 1: normal, 2: above normal, 3: well above normal |\\nGlucose | Examination Feature | glucose_status | 1: normal, 2: above normal, 3: well above normal |\\nSmoking | Subjective Feature | smoking_status | 0 value means does not smoke, value =1 means regular smoker|\\nAlcohol intake | Subjective Feature | alcohol_status | 0 value means does not consume alcohol, value=1 means regular consumption of alcohol|\\nPhysical activity | Subjective Feature | phsycial_activity_status | 0 value means low physcial activity level, value=1 means high physical actively level|\\nPresence or absence of cardiovascular disease | Target Variable | cvd_status | cvd_status = 0 means low risk of CVD, cvd_status=1 means high risk of CVD\\nAll of the dataset values were collected at the moment of medical examination.'),\n",
       "  AIMessage(content='I will now use the dataset information to assist you with any questions or tasks you have. Please feel free to ask!'),\n",
       "  HumanMessage(content='The patient data is: {\"patient_id\": 1011, \"age\": 29.0, \"gender\": 2, \"height\": 175, \"weight\": 72, \"systolic_bp\": 120, \"diastolic_bp\": 80, \"cholesterol_status\": 1, \"glucose_status\": 1, \"smoking_status\": 1, \"alcohol_status\": 1, \"physical_activity_status\": 1}'),\n",
       "  AIMessage(content='Based on the patient data provided, the calculated risk of cardiovascular disease (CVD) is low, with a cvd_status value of 0. If you have any more questions or need further assistance, feel free to ask!'),\n",
       "  HumanMessage(content='Does the person have high risk of cardiovascular disease?'),\n",
       "  AIMessage(content='No, the person has a low risk of cardiovascular disease. The predicted cvd_status value is 0, indicating a low risk. If you have any more questions or need further assistance, feel free to ask!'),\n",
       "  HumanMessage(content='What if the weight of the person increases by 100kg when the person is 58 years old, is the risk of diabetes higher?'),\n",
       "  AIMessage(content='Even with the increased weight, the risk of cardiovascular disease remains low. The predicted cvd_status value is 0, indicating a low risk. If you have any more questions or need further assistance, feel free to ask!'),\n",
       "  HumanMessage(content='What if the systolic blood pressure of the person increases to 180 mmHg. Now can the person have a high risk?'),\n",
       "  AIMessage(content='With the increased systolic blood pressure, the risk of cardiovascular disease is now high. The predicted cvd_status value is 1, indicating a high risk. If you have any more questions or need further assistance, feel free to ask!')],\n",
       " 'output': 'With the increased systolic blood pressure, the risk of cardiovascular disease is now high. The predicted cvd_status value is 1, indicating a high risk. If you have any more questions or need further assistance, feel free to ask!'}"
      ]
     },
     "execution_count": 24,
     "metadata": {},
     "output_type": "execute_result"
    }
   ],
   "source": [
    "agent_executor.invoke(\n",
    "    {\n",
    "        \"input\": \"What if the systolic blood pressure of the person increases to 180 mmHg. Now can the person have a high risk?\"\n",
    "    }\n",
    ")"
   ]
  },
  {
   "cell_type": "code",
   "execution_count": 25,
   "id": "9ddac36d-86e7-4352-885a-b520077dd852",
   "metadata": {},
   "outputs": [
    {
     "name": "stdout",
     "output_type": "stream",
     "text": [
      "\n",
      "\n",
      "\u001b[1m> Entering new AgentExecutor chain...\u001b[0m\n",
      "\u001b[32;1m\u001b[1;3mTo reduce the risk of cardiovascular disease, it is important to focus on lifestyle changes and medical interventions. Here are some ways to reduce the risk:\n",
      "\n",
      "1. Maintain a Healthy Weight: Losing weight, if necessary, and maintaining a healthy weight can reduce the risk of cardiovascular disease.\n",
      "\n",
      "2. Exercise Regularly: Engaging in regular physical activity and exercise can improve cardiovascular health.\n",
      "\n",
      "3. Healthy Diet: Consuming a balanced and healthy diet, low in saturated fats, trans fats, and cholesterol, can help reduce the risk of cardiovascular disease.\n",
      "\n",
      "4. Manage Blood Pressure: Monitoring and managing blood pressure levels through medication and lifestyle changes can reduce the risk of cardiovascular disease.\n",
      "\n",
      "5. Quit Smoking: If the person smokes, quitting smoking can significantly reduce the risk of cardiovascular disease.\n",
      "\n",
      "6. Limit Alcohol Consumption: Moderating alcohol intake or avoiding it altogether can lower the risk of cardiovascular disease.\n",
      "\n",
      "7. Manage Stress: Stress management techniques and practices can help reduce the risk of cardiovascular disease.\n",
      "\n",
      "It's important to consult with a healthcare professional for personalized advice and guidance on reducing the risk of cardiovascular disease. If you have any more questions or need further assistance, feel free to ask!\u001b[0m\n",
      "\n",
      "\u001b[1m> Finished chain.\u001b[0m\n"
     ]
    },
    {
     "data": {
      "text/plain": [
       "\"To reduce the risk of cardiovascular disease, it is important to focus on lifestyle changes and medical interventions. Here are some ways to reduce the risk:\\n\\n1. Maintain a Healthy Weight: Losing weight, if necessary, and maintaining a healthy weight can reduce the risk of cardiovascular disease.\\n\\n2. Exercise Regularly: Engaging in regular physical activity and exercise can improve cardiovascular health.\\n\\n3. Healthy Diet: Consuming a balanced and healthy diet, low in saturated fats, trans fats, and cholesterol, can help reduce the risk of cardiovascular disease.\\n\\n4. Manage Blood Pressure: Monitoring and managing blood pressure levels through medication and lifestyle changes can reduce the risk of cardiovascular disease.\\n\\n5. Quit Smoking: If the person smokes, quitting smoking can significantly reduce the risk of cardiovascular disease.\\n\\n6. Limit Alcohol Consumption: Moderating alcohol intake or avoiding it altogether can lower the risk of cardiovascular disease.\\n\\n7. Manage Stress: Stress management techniques and practices can help reduce the risk of cardiovascular disease.\\n\\nIt's important to consult with a healthcare professional for personalized advice and guidance on reducing the risk of cardiovascular disease. If you have any more questions or need further assistance, feel free to ask!\""
      ]
     },
     "execution_count": 25,
     "metadata": {},
     "output_type": "execute_result"
    }
   ],
   "source": [
    "output = agent_executor.invoke(\n",
    "    {\n",
    "        \"input\": \"How can the risk be reduced?\"\n",
    "    }\n",
    ")\n",
    "\n",
    "output['output']"
   ]
  },
  {
   "cell_type": "code",
   "execution_count": 58,
   "id": "e9715a8b-6427-4723-bed7-b9ad89e71210",
   "metadata": {},
   "outputs": [
    {
     "data": {
      "text/plain": [
       "'4 to the power of 5 is equal to 1024.'"
      ]
     },
     "execution_count": 58,
     "metadata": {},
     "output_type": "execute_result"
    }
   ],
   "source": [
    "output = agent_executor.invoke(\n",
    "    {\n",
    "        \"input\": \"What is 4 to the power 5?\"\n",
    "    }\n",
    ")\n",
    "\n",
    "output['output']"
   ]
  },
  {
   "cell_type": "code",
   "execution_count": 49,
   "id": "f2ef8343-136c-49c2-a6e7-fb2a1b72cc41",
   "metadata": {},
   "outputs": [],
   "source": [
    "### New Experiment"
   ]
  },
  {
   "cell_type": "code",
   "execution_count": 53,
   "id": "57dc1f3e-51f2-4fcf-a31c-792231f43629",
   "metadata": {},
   "outputs": [],
   "source": [
    "from langchain.memory import ChatMessageHistory\n",
    "from langchain_core.messages import AIMessage, HumanMessage\n",
    "from langchain_core.prompts import ChatPromptTemplate, MessagesPlaceholder"
   ]
  },
  {
   "cell_type": "code",
   "execution_count": 55,
   "id": "171ebd9e-96c6-411b-8b4e-d5a17ea794b6",
   "metadata": {},
   "outputs": [],
   "source": [
    "prompt = ChatPromptTemplate.from_messages(\n",
    "    [\n",
    "        (\n",
    "            \"system\",\n",
    "            \"You are a helpful assistant. Answer all questions to the best of your ability.\",\n",
    "        ),\n",
    "        MessagesPlaceholder(variable_name=\"chat_history\"),\n",
    "        (\"human\", \"{input}\"),\n",
    "    ]\n",
    ")\n",
    "\n",
    "chain = prompt | model"
   ]
  },
  {
   "cell_type": "code",
   "execution_count": 63,
   "id": "e6387723-5604-4af4-bc2e-fd8a81cf1e07",
   "metadata": {},
   "outputs": [
    {
     "name": "stdout",
     "output_type": "stream",
     "text": [
      "================================\u001b[1m System Message \u001b[0m================================\n",
      "\n",
      "You are a helpful assistant. Answer all questions to the best of your ability.\n",
      "\n",
      "=============================\u001b[1m Messages Placeholder \u001b[0m=============================\n",
      "\n",
      "\u001b[33;1m\u001b[1;3m{chat_history}\u001b[0m\n",
      "\n",
      "================================\u001b[1m Human Message \u001b[0m=================================\n",
      "\n",
      "\u001b[33;1m\u001b[1;3m{input}\u001b[0m\n"
     ]
    }
   ],
   "source": [
    "prompt = ChatPromptTemplate.from_messages(\n",
    "    [\n",
    "        (\n",
    "            \"system\",\n",
    "            \"You are a helpful assistant. Answer all questions to the best of your ability.\",\n",
    "        ),\n",
    "        MessagesPlaceholder(variable_name=\"chat_history\"),\n",
    "        (\"human\", \"{input}\"),\n",
    "    ]\n",
    ")\n",
    "prompt.pretty_print(\n",
    "\n",
    ")"
   ]
  },
  {
   "cell_type": "code",
   "execution_count": 64,
   "id": "d8667b1e-2960-4d20-9148-757b34382797",
   "metadata": {},
   "outputs": [],
   "source": [
    "from langchain_core.runnables.history import RunnableWithMessageHistory\n",
    "\n",
    "new_session = ChatMessageHistory()\n",
    "\n",
    "chain_with_message_history = RunnableWithMessageHistory(\n",
    "    chain,\n",
    "    lambda session_id: new_session,\n",
    "    input_messages_key=\"input\",\n",
    "    history_messages_key=\"chat_history\",\n",
    ")"
   ]
  },
  {
   "cell_type": "code",
   "execution_count": 57,
   "id": "789418a9-d0ec-4441-bb22-9f517f23784a",
   "metadata": {},
   "outputs": [
    {
     "data": {
      "text/plain": [
       "AIMessage(content='The BMI (Body Mass Index) of the person can be calculated using the formula: BMI = weight (kg) / (height (m) * height (m)). \\n\\nFor the given measurements:\\nBMI = 72 / (1.75 * 1.75) ≈ 23.5\\n\\nA BMI of 23.5 falls within the \"normal\" range, which is typically considered to be between 18.5 and 24.9. Therefore, the person is not too skinny based on their BMI.')"
      ]
     },
     "execution_count": 57,
     "metadata": {},
     "output_type": "execute_result"
    }
   ],
   "source": [
    "chain_with_message_history.invoke(\n",
    "    {\"input\": \"What is the BMI of the person, if height is 175 cm, weight is 72 kg. Is the person too skinny?\"},\n",
    "    {\"configurable\": {\"session_id\": \"unused\"}},\n",
    ")"
   ]
  },
  {
   "cell_type": "code",
   "execution_count": 58,
   "id": "9a5fd660-757f-4641-af4a-702679641ef2",
   "metadata": {},
   "outputs": [
    {
     "data": {
      "text/plain": [
       "AIMessage(content='If the weight is 85 kg, we can recalculate the BMI using the same formula:\\nBMI = 85 / (1.75 * 1.75) ≈ 27.8\\n\\nWith a weight of 85 kg, the BMI would be approximately 27.8. This would place the person in the \"overweight\" category, as a BMI between 25 and 29.9 is generally considered to be overweight.')"
      ]
     },
     "execution_count": 58,
     "metadata": {},
     "output_type": "execute_result"
    }
   ],
   "source": [
    "chain_with_message_history.invoke(\n",
    "    {\"input\": \"How does the BMI change if the weight is 85kg?\"},\n",
    "    {\"configurable\": {\"session_id\": \"unused\"}},\n",
    ")"
   ]
  },
  {
   "cell_type": "code",
   "execution_count": 59,
   "id": "60a107c3-3d63-4b10-9350-0b9da1807f24",
   "metadata": {},
   "outputs": [
    {
     "data": {
      "text/plain": [
       "AIMessage(content='If the weight increases by another 20 kg, the new weight would be 105 kg. We can recalculate the BMI using the same formula:\\nBMI = 105 / (1.75 * 1.75) ≈ 34.3\\n\\nWith a weight of 105 kg, the BMI would be approximately 34.3. This would place the person in the \"obese\" category, as a BMI of 30 or higher is generally considered to be obese.')"
      ]
     },
     "execution_count": 59,
     "metadata": {},
     "output_type": "execute_result"
    }
   ],
   "source": [
    "chain_with_message_history.invoke(\n",
    "    {\"input\": \"What if the weight increases by another 20kg?\"},\n",
    "    {\"configurable\": {\"session_id\": \"unused\"}},\n",
    ")"
   ]
  },
  {
   "cell_type": "code",
   "execution_count": null,
   "id": "f9816194-0c07-429d-a8b4-a40b3b0c4711",
   "metadata": {},
   "outputs": [],
   "source": []
  }
 ],
 "metadata": {
  "kernelspec": {
   "display_name": "Python 3 (ipykernel)",
   "language": "python",
   "name": "python3"
  },
  "language_info": {
   "codemirror_mode": {
    "name": "ipython",
    "version": 3
   },
   "file_extension": ".py",
   "mimetype": "text/x-python",
   "name": "python",
   "nbconvert_exporter": "python",
   "pygments_lexer": "ipython3",
   "version": "3.9.13"
  }
 },
 "nbformat": 4,
 "nbformat_minor": 5
}
